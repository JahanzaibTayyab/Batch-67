{
  "nbformat": 4,
  "nbformat_minor": 0,
  "metadata": {
    "colab": {
      "provenance": []
    },
    "kernelspec": {
      "name": "python3",
      "display_name": "Python 3"
    },
    "language_info": {
      "name": "python"
    }
  },
  "cells": [
    {
      "cell_type": "markdown",
      "source": [
        "# **Variables in Python**"
      ],
      "metadata": {
        "id": "OI35XOa2eUdz"
      }
    },
    {
      "cell_type": "code",
      "execution_count": 20,
      "metadata": {
        "id": "m6WkDWH4-D7S"
      },
      "outputs": [],
      "source": [
        "name = 'Kamran Khan PIAIC'\n",
        "name2 = 'Hassan'\n",
        "name3 = 'Jahanzaib'"
      ]
    },
    {
      "cell_type": "code",
      "source": [
        "print(name)"
      ],
      "metadata": {
        "colab": {
          "base_uri": "https://localhost:8080/"
        },
        "id": "UALTPz3mDt_q",
        "outputId": "8eb24484-8a49-49e6-8e5a-4c9cb97ba930"
      },
      "execution_count": 14,
      "outputs": [
        {
          "output_type": "stream",
          "name": "stdout",
          "text": [
            "Kamran Khan PIAIC\n"
          ]
        }
      ]
    },
    {
      "cell_type": "code",
      "source": [
        "print('Kamran Khan')"
      ],
      "metadata": {
        "colab": {
          "base_uri": "https://localhost:8080/"
        },
        "id": "cxj48QGPEAeH",
        "outputId": "12e46417-b333-43af-b547-d6ed04ec6dbd"
      },
      "execution_count": 6,
      "outputs": [
        {
          "output_type": "stream",
          "name": "stdout",
          "text": [
            "Kamran Khan\n"
          ]
        }
      ]
    },
    {
      "cell_type": "markdown",
      "source": [
        "### Assigning Values to variables in single line"
      ],
      "metadata": {
        "id": "5ncEAkX0ec8x"
      }
    },
    {
      "cell_type": "code",
      "source": [
        "name, name2, name3 = 'Kamran', 'Hassan', 'Jahanzaib'"
      ],
      "metadata": {
        "id": "ziCTM6TrFuRn"
      },
      "execution_count": 1,
      "outputs": []
    },
    {
      "cell_type": "code",
      "source": [
        "print(name, name2, name3)"
      ],
      "metadata": {
        "colab": {
          "base_uri": "https://localhost:8080/"
        },
        "id": "6t12AdkQD9A5",
        "outputId": "176cb90a-2b7e-4ff7-a2f9-555749cdbe19"
      },
      "execution_count": 2,
      "outputs": [
        {
          "output_type": "stream",
          "name": "stdout",
          "text": [
            "Kamran Hassan Jahanzaib\n"
          ]
        }
      ]
    },
    {
      "cell_type": "markdown",
      "source": [
        "### Updating variables"
      ],
      "metadata": {
        "id": "O1X8xw_igsIL"
      }
    },
    {
      "cell_type": "code",
      "source": [
        "name = 'Junaid'"
      ],
      "metadata": {
        "id": "j39Yo1WsEL7N"
      },
      "execution_count": 21,
      "outputs": []
    },
    {
      "cell_type": "code",
      "source": [
        "print(name)"
      ],
      "metadata": {
        "colab": {
          "base_uri": "https://localhost:8080/"
        },
        "id": "KQOMb6KtFCkK",
        "outputId": "bc0f7471-5c71-442d-d88a-493eb03a99fd"
      },
      "execution_count": 22,
      "outputs": [
        {
          "output_type": "stream",
          "name": "stdout",
          "text": [
            "Junaid\n"
          ]
        }
      ]
    },
    {
      "cell_type": "markdown",
      "source": [
        "# Types of varaibles\n",
        "## Numeric\n",
        "\n",
        "*   Non-Decimal (Integers) | int\n",
        "*   Decimal (Float) | float\n",
        "\n",
        "## String\n",
        "\n",
        "*   Single line string | Enclosed in double quotes (\" \"), single quotes (' ').\n",
        "*   Multi Line string | Enclosed in Tripple quotes ( ' ' '_________________________' ' ' )."
      ],
      "metadata": {
        "id": "70ycqI22gzaE"
      }
    },
    {
      "cell_type": "code",
      "source": [
        "age: int = 20\n",
        "height: float = 6.2\n",
        "name: str = 'Kamran Khan'"
      ],
      "metadata": {
        "id": "dp86p-gyHSt0"
      },
      "execution_count": 28,
      "outputs": []
    },
    {
      "cell_type": "code",
      "source": [
        "print(age)\n",
        "print(height)\n",
        "print(name)"
      ],
      "metadata": {
        "colab": {
          "base_uri": "https://localhost:8080/"
        },
        "id": "X2iB-l0pJO4F",
        "outputId": "fbaca2d9-84e6-44cf-90ae-9f2f7625ac72"
      },
      "execution_count": 29,
      "outputs": [
        {
          "output_type": "stream",
          "name": "stdout",
          "text": [
            "20\n",
            "6.2\n",
            "Kamran Khan\n"
          ]
        }
      ]
    },
    {
      "cell_type": "code",
      "source": [
        "print('My age is:', age)"
      ],
      "metadata": {
        "colab": {
          "base_uri": "https://localhost:8080/"
        },
        "id": "08GI6I8-JU2G",
        "outputId": "4455df22-c710-4dbf-e9cb-f5ae54a83f5d"
      },
      "execution_count": 30,
      "outputs": [
        {
          "output_type": "stream",
          "name": "stdout",
          "text": [
            "My age is: 20\n"
          ]
        }
      ]
    },
    {
      "cell_type": "code",
      "source": [
        "print('My name is:', name, 'and My age is:', age)"
      ],
      "metadata": {
        "colab": {
          "base_uri": "https://localhost:8080/"
        },
        "id": "IU3uEXsWKl8h",
        "outputId": "9befe162-2698-4a09-bbc2-86e1b3d54c76"
      },
      "execution_count": 31,
      "outputs": [
        {
          "output_type": "stream",
          "name": "stdout",
          "text": [
            "My name is: Kamran Khan and My age is: 20\n"
          ]
        }
      ]
    }
  ]
}