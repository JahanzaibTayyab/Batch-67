{
 "cells": [
  {
   "cell_type": "markdown",
   "metadata": {},
   "source": [
    "Explore String methods and attributes"
   ]
  },
  {
   "cell_type": "code",
   "execution_count": 1,
   "metadata": {},
   "outputs": [
    {
     "name": "stdout",
     "output_type": "stream",
     "text": [
      "Jahanzaib tayyab\n"
     ]
    }
   ],
   "source": [
    "name : str = \"Jahanzaib Tayyab\"\n",
    "\n",
    "#variable_name.method()\n",
    "print(name.capitalize())"
   ]
  },
  {
   "cell_type": "code",
   "execution_count": 5,
   "metadata": {},
   "outputs": [
    {
     "name": "stdout",
     "output_type": "stream",
     "text": [
      "5\n",
      "jahanzaib tayyab\n",
      "Jahanzaib Tayyab\n",
      "JAHANZAIB TAYYAB\n"
     ]
    }
   ],
   "source": [
    "print(name.count('a'))\n",
    "print(name.lower())\n",
    "print(name.title())\n",
    "print(name.upper())"
   ]
  },
  {
   "cell_type": "code",
   "execution_count": 7,
   "metadata": {},
   "outputs": [
    {
     "name": "stdout",
     "output_type": "stream",
     "text": [
      "      Jahanzaib Tayyab         \n",
      "Jahanzaib Tayyab         \n"
     ]
    }
   ],
   "source": [
    "name : str = \"      Jahanzaib Tayyab         \"\n",
    "\n",
    "#variable_name.method()\n",
    "print(name)\n",
    "print(name.lstrip())\n"
   ]
  },
  {
   "cell_type": "code",
   "execution_count": 9,
   "metadata": {},
   "outputs": [
    {
     "name": "stdout",
     "output_type": "stream",
     "text": [
      "      Jahanzaib Tayyab         \n",
      "      Jahanzaib Tayyab\n"
     ]
    }
   ],
   "source": [
    "name : str = \"      Jahanzaib Tayyab         \"\n",
    "\n",
    "#variable_name.method()\n",
    "print(name)\n",
    "print(name.rstrip())\n"
   ]
  },
  {
   "cell_type": "code",
   "execution_count": 10,
   "metadata": {},
   "outputs": [
    {
     "name": "stdout",
     "output_type": "stream",
     "text": [
      "      Jahanzaib Tayyab         \n",
      "Jahanzaib Tayyab\n",
      "      Jahanzaib       Tayyab         \n",
      "Jahanzaib       Tayyab\n"
     ]
    }
   ],
   "source": [
    "name : str = \"      Jahanzaib Tayyab         \"\n",
    "\n",
    "#variable_name.method()\n",
    "print(name)\n",
    "print(name.strip())\n",
    "\n",
    "name : str = \"      Jahanzaib       Tayyab         \"\n",
    "\n",
    "#variable_name.method()\n",
    "print(name)\n",
    "print(name.strip())"
   ]
  },
  {
   "cell_type": "markdown",
   "metadata": {},
   "source": [
    "\\n\n",
    "\\t\n",
    "\\b"
   ]
  },
  {
   "cell_type": "code",
   "execution_count": 11,
   "metadata": {},
   "outputs": [
    {
     "name": "stdout",
     "output_type": "stream",
     "text": [
      "jahan\n",
      "Jahan\n",
      "rstrip          T           Jahanzaib\n",
      "lstrip T           Jahanzaib          \n",
      "strip T           Jahanzaib\n"
     ]
    }
   ],
   "source": [
    "firstName:str='         T           Jahanzaib          '\n",
    "print(firstName.lstrip().removeprefix('T').capitalize().strip().removesuffix('zaib'))\n",
    "print(firstName.strip().removeprefix('T').strip().removesuffix('zaib'))\n",
    "print(\"rstrip\",firstName.rstrip(' '))\n",
    "print(\"lstrip\",firstName.lstrip())\n",
    "print(\"strip\",firstName.strip())"
   ]
  }
 ],
 "metadata": {
  "kernelspec": {
   "display_name": "Python 3",
   "language": "python",
   "name": "python3"
  },
  "language_info": {
   "codemirror_mode": {
    "name": "ipython",
    "version": 3
   },
   "file_extension": ".py",
   "mimetype": "text/x-python",
   "name": "python",
   "nbconvert_exporter": "python",
   "pygments_lexer": "ipython3",
   "version": "3.13.0"
  }
 },
 "nbformat": 4,
 "nbformat_minor": 2
}
