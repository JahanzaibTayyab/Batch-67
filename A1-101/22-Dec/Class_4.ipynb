{
  "nbformat": 4,
  "nbformat_minor": 0,
  "metadata": {
    "colab": {
      "provenance": []
    },
    "kernelspec": {
      "name": "python3",
      "display_name": "Python 3"
    },
    "language_info": {
      "name": "python"
    }
  },
  "cells": [
    {
      "cell_type": "markdown",
      "source": [
        "# F-String"
      ],
      "metadata": {
        "id": "jYNBar4mEAH-"
      }
    },
    {
      "cell_type": "code",
      "execution_count": null,
      "metadata": {
        "colab": {
          "base_uri": "https://localhost:8080/"
        },
        "id": "Qrzgj45uD4dk",
        "outputId": "c58c933a-7f90-46d2-9be7-345c3db6e342"
      },
      "outputs": [
        {
          "output_type": "stream",
          "name": "stdout",
          "text": [
            "My name is: Kamran and my age is: 12\n"
          ]
        }
      ],
      "source": [
        "name: str = 'Kamran'\n",
        "age: int = 12\n",
        "height: float = 5.6\n",
        "print('My name is:', name, 'and my age is:', age)"
      ]
    },
    {
      "cell_type": "code",
      "source": [
        "print(f'My name is {name} and my age is {age}')"
      ],
      "metadata": {
        "colab": {
          "base_uri": "https://localhost:8080/"
        },
        "id": "V4efYftWEhSa",
        "outputId": "2c9ffe25-e46d-49e8-ac90-9401a214829f"
      },
      "execution_count": null,
      "outputs": [
        {
          "output_type": "stream",
          "name": "stdout",
          "text": [
            "My name is Kamran and my age is 12\n"
          ]
        }
      ]
    },
    {
      "cell_type": "markdown",
      "source": [
        "# Type casting\n",
        "\n",
        "\n",
        "*   int()\n",
        "*   float()\n",
        "*   str()\n",
        "*   bool()"
      ],
      "metadata": {
        "id": "Ov7mPflI0num"
      }
    },
    {
      "cell_type": "code",
      "source": [
        "amount: str = '12345'\n",
        "print(type(amount))"
      ],
      "metadata": {
        "colab": {
          "base_uri": "https://localhost:8080/"
        },
        "id": "7P6RiYzvGDtF",
        "outputId": "4d4a5187-a5a4-493e-c3f6-caaeb6417cb4"
      },
      "execution_count": null,
      "outputs": [
        {
          "output_type": "stream",
          "name": "stdout",
          "text": [
            "<class 'str'>\n"
          ]
        }
      ]
    },
    {
      "cell_type": "code",
      "source": [
        "amount = int(amount)\n",
        "print(type(amount))"
      ],
      "metadata": {
        "colab": {
          "base_uri": "https://localhost:8080/"
        },
        "id": "2_BnGUt8GP2C",
        "outputId": "7d12a324-7c69-4f2f-8878-f4256587b6ce"
      },
      "execution_count": null,
      "outputs": [
        {
          "output_type": "stream",
          "name": "stdout",
          "text": [
            "<class 'int'>\n"
          ]
        }
      ]
    },
    {
      "cell_type": "code",
      "source": [
        "print(name)"
      ],
      "metadata": {
        "colab": {
          "base_uri": "https://localhost:8080/"
        },
        "id": "Ly8RE8z0GZVe",
        "outputId": "31def63a-5565-404f-8fe8-95b2057b8625"
      },
      "execution_count": null,
      "outputs": [
        {
          "output_type": "stream",
          "name": "stdout",
          "text": [
            "Kamran\n"
          ]
        }
      ]
    },
    {
      "cell_type": "markdown",
      "source": [
        "# Input Statement"
      ],
      "metadata": {
        "id": "m6-B4mxYHxWS"
      }
    },
    {
      "cell_type": "code",
      "source": [
        "name: str = input('Enter your name:')\n",
        "age: int = input('Enter your age:')\n",
        "print(f'My name is {name} and my age is {age}')"
      ],
      "metadata": {
        "colab": {
          "base_uri": "https://localhost:8080/"
        },
        "id": "a4Ql7_IdG065",
        "outputId": "ce4a8db2-46b3-4ccb-8234-f9fb475bfa64"
      },
      "execution_count": null,
      "outputs": [
        {
          "output_type": "stream",
          "name": "stdout",
          "text": [
            "Enter your name:kamran\n",
            "Enter your age:34\n",
            "My name is kamran and my age is 34\n"
          ]
        }
      ]
    },
    {
      "cell_type": "code",
      "source": [
        "print(type(age))"
      ],
      "metadata": {
        "colab": {
          "base_uri": "https://localhost:8080/"
        },
        "id": "EILQH-smJGNH",
        "outputId": "88c50e2b-8b7f-4fbc-e677-a92addf22944"
      },
      "execution_count": null,
      "outputs": [
        {
          "output_type": "stream",
          "name": "stdout",
          "text": [
            "<class 'str'>\n"
          ]
        }
      ]
    },
    {
      "cell_type": "code",
      "source": [
        "a: int = int(input('Enter 1st number:'))\n",
        "b: int = int(input('Enter 2nd number:'))\n",
        "print(a + b)"
      ],
      "metadata": {
        "colab": {
          "base_uri": "https://localhost:8080/"
        },
        "id": "cvcrPbDmJX8h",
        "outputId": "3e6c8566-5bb0-4aa1-d7ad-a185a17cc0ff"
      },
      "execution_count": null,
      "outputs": [
        {
          "output_type": "stream",
          "name": "stdout",
          "text": [
            "Enter 1st number:23\n",
            "Enter 2nd number:4\n",
            "27\n"
          ]
        }
      ]
    },
    {
      "cell_type": "markdown",
      "source": [
        "# List"
      ],
      "metadata": {
        "id": "GcJp29-D1Xo_"
      }
    },
    {
      "cell_type": "code",
      "source": [
        "fruits: list = ['apple', 'banana', 'cherry', 'mango', 'almond']"
      ],
      "metadata": {
        "id": "VgzSYctIL8Wz"
      },
      "execution_count": 1,
      "outputs": []
    },
    {
      "cell_type": "code",
      "source": [
        "print(fruits)"
      ],
      "metadata": {
        "colab": {
          "base_uri": "https://localhost:8080/"
        },
        "id": "OQv2-M6-MWfI",
        "outputId": "0ceab7b7-037b-446e-b234-a641646830f4"
      },
      "execution_count": 2,
      "outputs": [
        {
          "output_type": "stream",
          "name": "stdout",
          "text": [
            "['apple', 'banana', 'cherry', 'mango', 'almond']\n"
          ]
        }
      ]
    },
    {
      "cell_type": "code",
      "source": [
        "ages: list = [23, 45, 54, 32, 12]\n",
        "print(ages)"
      ],
      "metadata": {
        "colab": {
          "base_uri": "https://localhost:8080/"
        },
        "id": "vIvrfqNQMYCL",
        "outputId": "597c092f-4081-4711-e622-943e0a475bb2"
      },
      "execution_count": 3,
      "outputs": [
        {
          "output_type": "stream",
          "name": "stdout",
          "text": [
            "[23, 45, 54, 32, 12]\n"
          ]
        }
      ]
    },
    {
      "cell_type": "code",
      "source": [
        "fruits_ages: list = ['apple', 23, 'mango', 20]\n",
        "print(fruits_ages)"
      ],
      "metadata": {
        "colab": {
          "base_uri": "https://localhost:8080/"
        },
        "id": "qFHlZQPEMyxV",
        "outputId": "e4e1fb32-953a-45b5-88ef-3b8d64a13d34"
      },
      "execution_count": 4,
      "outputs": [
        {
          "output_type": "stream",
          "name": "stdout",
          "text": [
            "['apple', 23, 'mango', 20]\n"
          ]
        }
      ]
    },
    {
      "cell_type": "markdown",
      "source": [
        "### Indexing"
      ],
      "metadata": {
        "id": "WKBnmFUn10xj"
      }
    },
    {
      "cell_type": "code",
      "source": [
        "print(fruits[3])"
      ],
      "metadata": {
        "colab": {
          "base_uri": "https://localhost:8080/"
        },
        "id": "mY2drtduNFO3",
        "outputId": "9ec33e33-ad21-4c37-bebe-13ca9e205a41"
      },
      "execution_count": null,
      "outputs": [
        {
          "output_type": "stream",
          "name": "stdout",
          "text": [
            "mango\n"
          ]
        }
      ]
    },
    {
      "cell_type": "code",
      "source": [
        "print(fruits[-3])"
      ],
      "metadata": {
        "colab": {
          "base_uri": "https://localhost:8080/"
        },
        "id": "m0J5XvB4N-fk",
        "outputId": "c25876b1-c0b3-4f22-b65d-035990ff4917"
      },
      "execution_count": null,
      "outputs": [
        {
          "output_type": "stream",
          "name": "stdout",
          "text": [
            "cherry\n"
          ]
        }
      ]
    },
    {
      "cell_type": "markdown",
      "source": [
        "## Slicing\n",
        "\n",
        "* ###   **list_name [start: end: step]**\n",
        "\n"
      ],
      "metadata": {
        "id": "If8IEqGW1_dP"
      }
    },
    {
      "cell_type": "code",
      "source": [
        "print(fruits[0:5:2])"
      ],
      "metadata": {
        "colab": {
          "base_uri": "https://localhost:8080/"
        },
        "id": "t99ONMKeOlrr",
        "outputId": "86499937-f407-4f77-a9d0-ae2ded60700a"
      },
      "execution_count": null,
      "outputs": [
        {
          "output_type": "stream",
          "name": "stdout",
          "text": [
            "['apple', 'cherry', 'almond']\n"
          ]
        }
      ]
    },
    {
      "cell_type": "code",
      "source": [
        "print(fruits[-5:-2])"
      ],
      "metadata": {
        "colab": {
          "base_uri": "https://localhost:8080/"
        },
        "id": "VUpOwHwKPJyn",
        "outputId": "491e8ce5-660a-4cb0-a44e-8f443abc59a9"
      },
      "execution_count": 5,
      "outputs": [
        {
          "output_type": "stream",
          "name": "stdout",
          "text": [
            "['apple', 'banana', 'cherry']\n"
          ]
        }
      ]
    }
  ]
}