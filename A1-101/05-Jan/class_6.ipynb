{
  "nbformat": 4,
  "nbformat_minor": 0,
  "metadata": {
    "colab": {
      "provenance": [],
      "authorship_tag": "ABX9TyNxPxBOWNceywQ3qmN5EIyE",
      "include_colab_link": true
    },
    "kernelspec": {
      "name": "python3",
      "display_name": "Python 3"
    },
    "language_info": {
      "name": "python"
    }
  },
  "cells": [
    {
      "cell_type": "markdown",
      "metadata": {
        "id": "view-in-github",
        "colab_type": "text"
      },
      "source": [
        "<a href=\"https://colab.research.google.com/github/JahanzaibTayyab/Batch-67/blob/main/class_6.ipynb\" target=\"_parent\"><img src=\"https://colab.research.google.com/assets/colab-badge.svg\" alt=\"Open In Colab\"/></a>"
      ]
    },
    {
      "cell_type": "markdown",
      "source": [
        "Dictionaries"
      ],
      "metadata": {
        "id": "kCAz6cQ-F0Hi"
      }
    },
    {
      "cell_type": "code",
      "execution_count": 1,
      "metadata": {
        "colab": {
          "base_uri": "https://localhost:8080/"
        },
        "id": "x8WGVypHFNAZ",
        "outputId": "98e0fa9d-6e9a-4880-947c-d88af30afdb7"
      },
      "outputs": [
        {
          "output_type": "stream",
          "name": "stdout",
          "text": [
            "['apple', 'banana', 'cherry']\n"
          ]
        }
      ],
      "source": [
        "fruits: list = ['apple', 'banana', 'cherry']\n",
        "print(fruits)"
      ]
    },
    {
      "cell_type": "code",
      "source": [],
      "metadata": {
        "id": "5GrQ7jAcH0BA"
      },
      "execution_count": null,
      "outputs": []
    },
    {
      "cell_type": "code",
      "source": [
        "fruits_dict: dict = {'a': 'apple', 'b': 'banana', 'c': 'cherry'}\n",
        "print(fruits_dict)"
      ],
      "metadata": {
        "colab": {
          "base_uri": "https://localhost:8080/"
        },
        "id": "mf_qW4j-HQgQ",
        "outputId": "17c1ae69-43bd-4f79-d7e2-5aea4574e8e2"
      },
      "execution_count": 4,
      "outputs": [
        {
          "output_type": "stream",
          "name": "stdout",
          "text": [
            "{'a': 'apple', 'b': 'banana', 'c': 'cherry'}\n"
          ]
        }
      ]
    },
    {
      "cell_type": "code",
      "source": [
        "fruits_dict['b']"
      ],
      "metadata": {
        "colab": {
          "base_uri": "https://localhost:8080/",
          "height": 35
        },
        "id": "Rx1LK3ScHWNA",
        "outputId": "1030d0ed-0597-410c-b54b-1f13dd485fca"
      },
      "execution_count": 5,
      "outputs": [
        {
          "output_type": "execute_result",
          "data": {
            "text/plain": [
              "'banana'"
            ],
            "application/vnd.google.colaboratory.intrinsic+json": {
              "type": "string"
            }
          },
          "metadata": {},
          "execution_count": 5
        }
      ]
    },
    {
      "cell_type": "code",
      "source": [
        "fruits_dict: dict = {12: 'apple', 14: 'banana', 'c': 'cherry'}\n",
        "print(fruits_dict)"
      ],
      "metadata": {
        "colab": {
          "base_uri": "https://localhost:8080/"
        },
        "id": "6mBXNj4fICTA",
        "outputId": "b66b491b-e271-4590-ca19-118888762f21"
      },
      "execution_count": 7,
      "outputs": [
        {
          "output_type": "stream",
          "name": "stdout",
          "text": [
            "{12: 'apple', 14: 'banana', 'c': 'cherry'}\n"
          ]
        }
      ]
    },
    {
      "cell_type": "code",
      "source": [
        "fruits_dict.get(12)"
      ],
      "metadata": {
        "colab": {
          "base_uri": "https://localhost:8080/",
          "height": 35
        },
        "id": "z_-Zzx02IKcd",
        "outputId": "c2a7c389-7668-4865-c88e-c5fcc45a3db0"
      },
      "execution_count": 11,
      "outputs": [
        {
          "output_type": "execute_result",
          "data": {
            "text/plain": [
              "'apple'"
            ],
            "application/vnd.google.colaboratory.intrinsic+json": {
              "type": "string"
            }
          },
          "metadata": {},
          "execution_count": 11
        }
      ]
    },
    {
      "cell_type": "code",
      "source": [
        "fruits_dict.keys()"
      ],
      "metadata": {
        "colab": {
          "base_uri": "https://localhost:8080/"
        },
        "id": "JhY0ASPBJeOr",
        "outputId": "30605cf2-0d66-412a-851f-197f285d6b6f"
      },
      "execution_count": 12,
      "outputs": [
        {
          "output_type": "execute_result",
          "data": {
            "text/plain": [
              "dict_keys([12, 14, 'c'])"
            ]
          },
          "metadata": {},
          "execution_count": 12
        }
      ]
    },
    {
      "cell_type": "markdown",
      "source": [
        "Conditional Statements"
      ],
      "metadata": {
        "id": "fb96fwtOKi8P"
      }
    },
    {
      "cell_type": "code",
      "source": [],
      "metadata": {
        "id": "Ar1Qr8_SLzYG"
      },
      "execution_count": null,
      "outputs": []
    },
    {
      "cell_type": "code",
      "source": [
        "day = input('Enter your day: ')\n",
        "\n",
        "if day.lower()=='sunday':\n",
        "  print('Go to UMT..')\n",
        "\n",
        "print('welcome')"
      ],
      "metadata": {
        "colab": {
          "base_uri": "https://localhost:8080/"
        },
        "id": "O8MX4WbeJwWx",
        "outputId": "3052c779-1ad2-4ef4-8fdb-c820d510a9e3"
      },
      "execution_count": 16,
      "outputs": [
        {
          "output_type": "stream",
          "name": "stdout",
          "text": [
            "Enter your day: sunday\n",
            "Go to UMT..\n",
            "welcome\n"
          ]
        }
      ]
    },
    {
      "cell_type": "code",
      "source": [
        "day = input('Enter your day: ')\n",
        "\n",
        "if day.lower()=='sunday':\n",
        "print('Go to UMT..')\n",
        "\n",
        ""
      ],
      "metadata": {
        "colab": {
          "base_uri": "https://localhost:8080/",
          "height": 106
        },
        "id": "9WdETh8cMC_8",
        "outputId": "34e65f5b-0cdc-455a-a4a7-5144c7f69a60"
      },
      "execution_count": 18,
      "outputs": [
        {
          "output_type": "error",
          "ename": "IndentationError",
          "evalue": "expected an indented block after 'if' statement on line 3 (<ipython-input-18-67f7973e81e5>, line 4)",
          "traceback": [
            "\u001b[0;36m  File \u001b[0;32m\"<ipython-input-18-67f7973e81e5>\"\u001b[0;36m, line \u001b[0;32m4\u001b[0m\n\u001b[0;31m    print('Go to UMT..')\u001b[0m\n\u001b[0m    ^\u001b[0m\n\u001b[0;31mIndentationError\u001b[0m\u001b[0;31m:\u001b[0m expected an indented block after 'if' statement on line 3\n"
          ]
        }
      ]
    },
    {
      "cell_type": "code",
      "source": [
        "day = input('Enter your day: ')\n",
        "\n",
        "if day.lower()=='sunday':\n",
        "  print('Go to UMT..')\n",
        "else:\n",
        "  print('Go to Office..')\n",
        "\n",
        ""
      ],
      "metadata": {
        "colab": {
          "base_uri": "https://localhost:8080/"
        },
        "id": "LBADjb1wNLZ5",
        "outputId": "b2344fdf-6f95-402f-88f4-74b1e30f9642"
      },
      "execution_count": 20,
      "outputs": [
        {
          "output_type": "stream",
          "name": "stdout",
          "text": [
            "Enter your day: sunday\n",
            "Go to UMT..\n"
          ]
        }
      ]
    },
    {
      "cell_type": "code",
      "source": [
        "temp = int(input('Enter temperature (degree): '))\n",
        "\n",
        "if temp > 35:\n",
        "  print('Hot day')\n",
        "elif temp >= 25 and temp <= 35:\n",
        "  print('Pleasant day')\n",
        "else:\n",
        "  print('Cold day')"
      ],
      "metadata": {
        "colab": {
          "base_uri": "https://localhost:8080/"
        },
        "id": "tMGr_zR7ODri",
        "outputId": "5d4f7518-91e6-4221-b605-75382cdd051d"
      },
      "execution_count": 23,
      "outputs": [
        {
          "output_type": "stream",
          "name": "stdout",
          "text": [
            "Enter temperature (degree): 10\n",
            "Cold day\n"
          ]
        }
      ]
    },
    {
      "cell_type": "code",
      "source": [
        "temp = int(input('Enter temperature (degree): '))\n",
        "\n",
        "if temp > 35:\n",
        "  print(f'Hot day -{temp} C')\n",
        "elif temp >= 25 and temp <= 35:\n",
        "  print(f'Pleasant day-{temp} C')\n",
        "else:\n",
        "  print(f'Cold day-{temp} C')"
      ],
      "metadata": {
        "colab": {
          "base_uri": "https://localhost:8080/"
        },
        "id": "idm5HfxVQEIL",
        "outputId": "0c858274-45d8-4827-e3f8-9d6e9fca4281"
      },
      "execution_count": 26,
      "outputs": [
        {
          "output_type": "stream",
          "name": "stdout",
          "text": [
            "Enter temperature (degree): 45\n",
            "Hot day -45 C\n"
          ]
        }
      ]
    },
    {
      "cell_type": "code",
      "source": [
        "eng_status = input('Enter english status(pass/fail): ')\n",
        "\n",
        "if eng_status == 'pass':\n",
        "  print('You are going to the next round')\n",
        "  math_status = input('Enter math status(pass/fail): ')\n",
        "  if math_status == 'pass':\n",
        "    print('Admission successful')\n",
        "  else:\n",
        "    print('Try again')\n",
        "else:\n",
        "  print('you are not elligible')"
      ],
      "metadata": {
        "colab": {
          "base_uri": "https://localhost:8080/"
        },
        "id": "vEOWuvfdRCLO",
        "outputId": "2c22ea29-942b-4818-8237-ef97be461da2"
      },
      "execution_count": 29,
      "outputs": [
        {
          "output_type": "stream",
          "name": "stdout",
          "text": [
            "Enter english status(pass/fail): fail\n",
            "you are not elligible\n"
          ]
        }
      ]
    },
    {
      "cell_type": "markdown",
      "source": [
        "### Comparison Operators\n",
        "\n",
        "\n",
        "*   ==\n",
        "*   !=\n",
        "*   <, >, <=, >=\n",
        "\n",
        "\n",
        "\n"
      ],
      "metadata": {
        "id": "sWmHqJbVUBgH"
      }
    },
    {
      "cell_type": "markdown",
      "source": [
        "### Logical Operators\n",
        "\n",
        "*   and\n",
        "*   or\n",
        "*   not\n",
        "\n",
        "\n"
      ],
      "metadata": {
        "id": "gveaBw7hUOqz"
      }
    },
    {
      "cell_type": "code",
      "source": [
        "# ==, != , >, <, <=, <="
      ],
      "metadata": {
        "id": "AM0K6hLLTR23"
      },
      "execution_count": null,
      "outputs": []
    }
  ]
}