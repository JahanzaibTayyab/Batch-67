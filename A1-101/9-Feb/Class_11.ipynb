{
  "nbformat": 4,
  "nbformat_minor": 0,
  "metadata": {
    "colab": {
      "provenance": []
    },
    "kernelspec": {
      "name": "python3",
      "display_name": "Python 3"
    },
    "language_info": {
      "name": "python"
    }
  },
  "cells": [
    {
      "cell_type": "markdown",
      "source": [
        "# Method Overloading and Overriding"
      ],
      "metadata": {
        "id": "H1J77tkBZ2-N"
      }
    },
    {
      "cell_type": "markdown",
      "source": [
        "## Method Overriding"
      ],
      "metadata": {
        "id": "m5v1s5lu6XL5"
      }
    },
    {
      "cell_type": "code",
      "execution_count": null,
      "metadata": {
        "id": "jAARzhBQXWzI"
      },
      "outputs": [],
      "source": [
        "class Person():\n",
        "    def __init__(self, name, age, gender):\n",
        "        self.name = name\n",
        "        self.age = age\n",
        "        self.gender = gender\n",
        "\n",
        "    def walk(self):\n",
        "        print('Person is Walking...')\n",
        "\n",
        "    def talk(self):\n",
        "        print('Person is Talking...')\n",
        "\n",
        "class Student(Person):\n",
        "    roll_no = 1231\n",
        "    def register_course(self):\n",
        "        print('Computer Science course is registered')\n",
        "\n",
        "    def talk(self):\n",
        "        print('Student is Talking...')"
      ]
    },
    {
      "cell_type": "code",
      "source": [
        "student1 = Student('Kamran', 30, 'male')"
      ],
      "metadata": {
        "id": "khZI7HI7Ztrx"
      },
      "execution_count": null,
      "outputs": []
    },
    {
      "cell_type": "code",
      "source": [
        "student1.talk()"
      ],
      "metadata": {
        "colab": {
          "base_uri": "https://localhost:8080/"
        },
        "id": "cabUII2sZwOm",
        "outputId": "442273ec-3c0f-4f9c-be42-d081ed0dda11"
      },
      "execution_count": null,
      "outputs": [
        {
          "output_type": "stream",
          "name": "stdout",
          "text": [
            "Student is Talking...\n"
          ]
        }
      ]
    },
    {
      "cell_type": "markdown",
      "source": [
        "## Method Overloading"
      ],
      "metadata": {
        "id": "pGXdlESo5cry"
      }
    },
    {
      "cell_type": "code",
      "source": [
        "class Person():\n",
        "    def __init__(self, name, age, gender):\n",
        "        self.name = name\n",
        "        self.age = age\n",
        "        self.gender = gender\n",
        "\n",
        "    def walk(self, name = ''): # overloaded method\n",
        "        print(f'{name} Person is Walking...')"
      ],
      "metadata": {
        "id": "O184jflcbmFO"
      },
      "execution_count": null,
      "outputs": []
    },
    {
      "cell_type": "code",
      "source": [
        "type(Person) # Type of a class is \"type\"."
      ],
      "metadata": {
        "colab": {
          "base_uri": "https://localhost:8080/"
        },
        "id": "Lfce9jrncTL9",
        "outputId": "3ac3449d-3563-4b1a-be9d-02f52d4f8965"
      },
      "execution_count": null,
      "outputs": [
        {
          "output_type": "execute_result",
          "data": {
            "text/plain": [
              "type"
            ]
          },
          "metadata": {},
          "execution_count": 9
        }
      ]
    },
    {
      "cell_type": "code",
      "source": [
        "Person.__dict__ # Dunder method to see the class attributes."
      ],
      "metadata": {
        "colab": {
          "base_uri": "https://localhost:8080/"
        },
        "id": "4fmvANL5cVOZ",
        "outputId": "9f8ca4b9-55e9-4108-bbe6-9f888d78936e"
      },
      "execution_count": null,
      "outputs": [
        {
          "output_type": "execute_result",
          "data": {
            "text/plain": [
              "mappingproxy({'__module__': '__main__',\n",
              "              '__init__': <function __main__.Person.__init__(self, name, age, gender)>,\n",
              "              'walk': <function __main__.Person.walk(self)>,\n",
              "              '__dict__': <attribute '__dict__' of 'Person' objects>,\n",
              "              '__weakref__': <attribute '__weakref__' of 'Person' objects>,\n",
              "              '__doc__': None,\n",
              "              '__annotations__': {}})"
            ]
          },
          "metadata": {},
          "execution_count": 10
        }
      ]
    },
    {
      "cell_type": "code",
      "source": [
        "p1 = Person('Kamran', 30, 'male')\n",
        "p1.walk()"
      ],
      "metadata": {
        "colab": {
          "base_uri": "https://localhost:8080/"
        },
        "id": "SnoKn4e-cgc6",
        "outputId": "f65006ee-4683-41ef-fa34-54f46b0f522d"
      },
      "execution_count": null,
      "outputs": [
        {
          "output_type": "stream",
          "name": "stdout",
          "text": [
            " Person is Walking...\n"
          ]
        }
      ]
    },
    {
      "cell_type": "code",
      "source": [
        "p1.walk('Hassan') # method overloading"
      ],
      "metadata": {
        "colab": {
          "base_uri": "https://localhost:8080/"
        },
        "id": "yH8beoFZdLZa",
        "outputId": "fcad3982-d221-4dc3-de5f-f32a4851dec3"
      },
      "execution_count": null,
      "outputs": [
        {
          "output_type": "stream",
          "name": "stdout",
          "text": [
            "Hassan Person is Walking...\n"
          ]
        }
      ]
    },
    {
      "cell_type": "markdown",
      "source": [
        "# Encapsulation"
      ],
      "metadata": {
        "id": "BHRj7RJC6vNZ"
      }
    },
    {
      "cell_type": "code",
      "source": [
        "class Person():\n",
        "    def __init__(self, name, age, password): # constructor method\n",
        "        self.name = name # public attribute\n",
        "        self._age = age # protected attribute\n",
        "        self.__password = password # private attribute\n",
        "\n",
        "    def walk(self): # class method\n",
        "        print('The person is walking')"
      ],
      "metadata": {
        "id": "QJE4ppkHddh-"
      },
      "execution_count": null,
      "outputs": []
    },
    {
      "cell_type": "code",
      "source": [
        "p1 = Person('Kamran', 30, '123456')"
      ],
      "metadata": {
        "id": "4DttAGgGf0Ym"
      },
      "execution_count": null,
      "outputs": []
    },
    {
      "cell_type": "code",
      "source": [
        "p1.name"
      ],
      "metadata": {
        "colab": {
          "base_uri": "https://localhost:8080/",
          "height": 36
        },
        "id": "Le1-ih3Xf6Kj",
        "outputId": "72ad761d-3952-453d-cff8-48ce201a4472"
      },
      "execution_count": null,
      "outputs": [
        {
          "output_type": "execute_result",
          "data": {
            "text/plain": [
              "'Kamran'"
            ],
            "application/vnd.google.colaboratory.intrinsic+json": {
              "type": "string"
            }
          },
          "metadata": {},
          "execution_count": 23
        }
      ]
    },
    {
      "cell_type": "code",
      "source": [
        "p1.__password # cannot access private property"
      ],
      "metadata": {
        "colab": {
          "base_uri": "https://localhost:8080/",
          "height": 141
        },
        "id": "FVn8W1vDf9JG",
        "outputId": "fd163640-e645-42b8-84ab-19d1b99d195e"
      },
      "execution_count": null,
      "outputs": [
        {
          "output_type": "error",
          "ename": "AttributeError",
          "evalue": "'Person' object has no attribute '__password'",
          "traceback": [
            "\u001b[0;31m---------------------------------------------------------------------------\u001b[0m",
            "\u001b[0;31mAttributeError\u001b[0m                            Traceback (most recent call last)",
            "\u001b[0;32m<ipython-input-26-0a1d60f7abf7>\u001b[0m in \u001b[0;36m<cell line: 0>\u001b[0;34m()\u001b[0m\n\u001b[0;32m----> 1\u001b[0;31m \u001b[0mp1\u001b[0m\u001b[0;34m.\u001b[0m\u001b[0m__password\u001b[0m\u001b[0;34m\u001b[0m\u001b[0;34m\u001b[0m\u001b[0m\n\u001b[0m",
            "\u001b[0;31mAttributeError\u001b[0m: 'Person' object has no attribute '__password'"
          ]
        }
      ]
    },
    {
      "cell_type": "code",
      "source": [
        "class Person():\n",
        "    def __init__(self, name, age): # constructor method\n",
        "        self.__name = name # private attribute\n",
        "        self._age = age # protected attribute\n",
        "\n",
        "    def __walk(self): # private method\n",
        "        print('The person is walking')"
      ],
      "metadata": {
        "id": "jCOrgHZCgAKi"
      },
      "execution_count": null,
      "outputs": []
    },
    {
      "cell_type": "code",
      "source": [
        "p1 = Person('Kamran', 30)"
      ],
      "metadata": {
        "id": "-OiQXMIbg7sc"
      },
      "execution_count": null,
      "outputs": []
    },
    {
      "cell_type": "code",
      "source": [
        "class Student(Person):\n",
        "    def getting_age(self):\n",
        "        print('Now age is:', self._age) # can access protected method in child class\n",
        "\n",
        "student2 = Student('Ali', 30)"
      ],
      "metadata": {
        "id": "b1KKr_z0ha75"
      },
      "execution_count": null,
      "outputs": []
    },
    {
      "cell_type": "code",
      "source": [
        "p1.__walk() # cannot access private method"
      ],
      "metadata": {
        "colab": {
          "base_uri": "https://localhost:8080/",
          "height": 141
        },
        "id": "4qPH1F7ghqyt",
        "outputId": "6aa07712-acc8-46f6-9c99-4e0a03e5f0c6"
      },
      "execution_count": null,
      "outputs": [
        {
          "output_type": "error",
          "ename": "AttributeError",
          "evalue": "'Person' object has no attribute '__walk'",
          "traceback": [
            "\u001b[0;31m---------------------------------------------------------------------------\u001b[0m",
            "\u001b[0;31mAttributeError\u001b[0m                            Traceback (most recent call last)",
            "\u001b[0;32m<ipython-input-37-9f44875a6df3>\u001b[0m in \u001b[0;36m<cell line: 0>\u001b[0;34m()\u001b[0m\n\u001b[0;32m----> 1\u001b[0;31m \u001b[0mp1\u001b[0m\u001b[0;34m.\u001b[0m\u001b[0m__walk\u001b[0m\u001b[0;34m(\u001b[0m\u001b[0;34m)\u001b[0m\u001b[0;34m\u001b[0m\u001b[0;34m\u001b[0m\u001b[0m\n\u001b[0m",
            "\u001b[0;31mAttributeError\u001b[0m: 'Person' object has no attribute '__walk'"
          ]
        }
      ]
    },
    {
      "cell_type": "markdown",
      "source": [
        "## Polymorphism"
      ],
      "metadata": {
        "id": "MrvlNJ4tjTMn"
      }
    },
    {
      "cell_type": "code",
      "source": [
        "class Teacher():\n",
        "    def register_course(self):\n",
        "        print('Computer Science course is taught by teacher')\n",
        "\n",
        "class Student():\n",
        "    def register_course(self):\n",
        "        print('Computer Science course is registered')"
      ],
      "metadata": {
        "id": "Fx1yAOFshwmI"
      },
      "execution_count": null,
      "outputs": []
    },
    {
      "cell_type": "code",
      "source": [
        "t1 = Teacher()\n",
        "s1 = Student()"
      ],
      "metadata": {
        "id": "BMTe6lk4i2qL"
      },
      "execution_count": null,
      "outputs": []
    },
    {
      "cell_type": "code",
      "source": [
        "t1.register_course()"
      ],
      "metadata": {
        "colab": {
          "base_uri": "https://localhost:8080/"
        },
        "id": "t1fX67L2i81u",
        "outputId": "6ea51473-8c18-4923-c7fe-c78473f0569b"
      },
      "execution_count": null,
      "outputs": [
        {
          "output_type": "stream",
          "name": "stdout",
          "text": [
            "Computer Science course is taught by teacher\n"
          ]
        }
      ]
    },
    {
      "cell_type": "code",
      "source": [
        "s1.register_course()"
      ],
      "metadata": {
        "colab": {
          "base_uri": "https://localhost:8080/"
        },
        "id": "kPLqIjJfi-2z",
        "outputId": "49d403d1-cd0b-4d87-e055-411f0664b4f0"
      },
      "execution_count": null,
      "outputs": [
        {
          "output_type": "stream",
          "name": "stdout",
          "text": [
            "Computer Science course is registered\n"
          ]
        }
      ]
    },
    {
      "cell_type": "markdown",
      "source": [
        "## Abstraction"
      ],
      "metadata": {
        "id": "3hW1DzyIj5uo"
      }
    },
    {
      "cell_type": "code",
      "source": [
        "student1.walk()"
      ],
      "metadata": {
        "colab": {
          "base_uri": "https://localhost:8080/"
        },
        "id": "L2EsXfq7jB0_",
        "outputId": "5891da46-f47f-438b-d603-238d981ba6d1"
      },
      "execution_count": null,
      "outputs": [
        {
          "output_type": "stream",
          "name": "stdout",
          "text": [
            "Person is Walking...\n"
          ]
        }
      ]
    },
    {
      "cell_type": "markdown",
      "source": [
        "## Getter and Setter methods"
      ],
      "metadata": {
        "id": "JwhuWW9Z7xj3"
      }
    },
    {
      "cell_type": "code",
      "source": [
        "setattr(p1, 'name', 'Ali')"
      ],
      "metadata": {
        "id": "9uVhNEs8j_SW"
      },
      "execution_count": null,
      "outputs": []
    },
    {
      "cell_type": "code",
      "source": [
        "getattr(p1, 'name')"
      ],
      "metadata": {
        "colab": {
          "base_uri": "https://localhost:8080/",
          "height": 36
        },
        "id": "thEmGLfTlPM_",
        "outputId": "da08fa5c-af0c-4ae6-83cf-d7a72efcfe31"
      },
      "execution_count": null,
      "outputs": [
        {
          "output_type": "execute_result",
          "data": {
            "text/plain": [
              "'Ali'"
            ],
            "application/vnd.google.colaboratory.intrinsic+json": {
              "type": "string"
            }
          },
          "metadata": {},
          "execution_count": 45
        }
      ]
    },
    {
      "cell_type": "code",
      "source": [
        "class Vehicle:\n",
        "  model = 2022\n",
        "  _color = 'black'"
      ],
      "metadata": {
        "id": "mP0Iwa6xlR4Q"
      },
      "execution_count": null,
      "outputs": []
    },
    {
      "cell_type": "code",
      "source": [
        "car = Vehicle()"
      ],
      "metadata": {
        "id": "6RBUcthPly4H"
      },
      "execution_count": null,
      "outputs": []
    },
    {
      "cell_type": "code",
      "source": [
        "car.model = 2023"
      ],
      "metadata": {
        "id": "R7NWSQ5ol1Tq"
      },
      "execution_count": null,
      "outputs": []
    },
    {
      "cell_type": "code",
      "source": [
        "car.model"
      ],
      "metadata": {
        "colab": {
          "base_uri": "https://localhost:8080/"
        },
        "id": "f78j0sipl6qW",
        "outputId": "e305126a-c943-43c5-e094-88aba57b685c"
      },
      "execution_count": null,
      "outputs": [
        {
          "output_type": "execute_result",
          "data": {
            "text/plain": [
              "2023"
            ]
          },
          "metadata": {},
          "execution_count": 50
        }
      ]
    },
    {
      "cell_type": "code",
      "source": [
        "car._color = 'Green'"
      ],
      "metadata": {
        "id": "n51z80Asl709"
      },
      "execution_count": null,
      "outputs": []
    },
    {
      "cell_type": "code",
      "source": [
        "car._color"
      ],
      "metadata": {
        "id": "YxEEiDbkmFO0",
        "outputId": "24c5dd17-7dce-4cd9-9262-9e3e8d32f8db",
        "colab": {
          "base_uri": "https://localhost:8080/",
          "height": 36
        }
      },
      "execution_count": null,
      "outputs": [
        {
          "output_type": "execute_result",
          "data": {
            "text/plain": [
              "'Green'"
            ],
            "application/vnd.google.colaboratory.intrinsic+json": {
              "type": "string"
            }
          },
          "metadata": {},
          "execution_count": 52
        }
      ]
    }
  ]
}