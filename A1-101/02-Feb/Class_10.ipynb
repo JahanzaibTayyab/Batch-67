{
  "nbformat": 4,
  "nbformat_minor": 0,
  "metadata": {
    "colab": {
      "provenance": []
    },
    "kernelspec": {
      "name": "python3",
      "display_name": "Python 3"
    },
    "language_info": {
      "name": "python"
    }
  },
  "cells": [
    {
      "cell_type": "markdown",
      "source": [
        "# Object-Oriented-Programming"
      ],
      "metadata": {
        "id": "eCY-3qi_HyVd"
      }
    },
    {
      "cell_type": "markdown",
      "source": [
        "\n",
        "\n",
        "1.   Class\n",
        "2.   Objects\n",
        "\n"
      ],
      "metadata": {
        "id": "W-3xukVkMSTS"
      }
    },
    {
      "cell_type": "code",
      "source": [
        "class Person:\n",
        "  name = 'Kamran'\n",
        "  age = 28\n",
        "  height = 5.4\n",
        "  qualification = 'MSCS'\n",
        "\n",
        "  def walk(self):\n",
        "    print('I am walking')\n",
        "\n",
        "  def eat(self):\n",
        "    print('I am eating')\n",
        "\n",
        "  def sleep(self):\n",
        "    print('I am sleeping')\n"
      ],
      "metadata": {
        "id": "RjhHUk6lMztG"
      },
      "execution_count": null,
      "outputs": []
    },
    {
      "cell_type": "code",
      "execution_count": null,
      "metadata": {
        "id": "1hSXmg40Gfnn"
      },
      "outputs": [],
      "source": [
        "kamran = Person()"
      ]
    },
    {
      "cell_type": "code",
      "source": [
        "kamran.qualification"
      ],
      "metadata": {
        "colab": {
          "base_uri": "https://localhost:8080/",
          "height": 36
        },
        "id": "QYPxYu-NNRiF",
        "outputId": "18ed01df-b7b9-43ac-e021-03e1dc32f19a"
      },
      "execution_count": null,
      "outputs": [
        {
          "output_type": "execute_result",
          "data": {
            "text/plain": [
              "'MSCS'"
            ],
            "application/vnd.google.colaboratory.intrinsic+json": {
              "type": "string"
            }
          },
          "metadata": {},
          "execution_count": 16
        }
      ]
    },
    {
      "cell_type": "code",
      "source": [
        "kamran.sleep()"
      ],
      "metadata": {
        "colab": {
          "base_uri": "https://localhost:8080/"
        },
        "id": "Ar3Dq3k8Ok2E",
        "outputId": "823ff139-2711-4fd3-b3c7-163ade4791ce"
      },
      "execution_count": null,
      "outputs": [
        {
          "output_type": "stream",
          "name": "stdout",
          "text": [
            "I am sleeping\n"
          ]
        }
      ]
    },
    {
      "cell_type": "code",
      "source": [
        "kamran.walk()"
      ],
      "metadata": {
        "colab": {
          "base_uri": "https://localhost:8080/"
        },
        "id": "CemPxcWAPHFK",
        "outputId": "665b273f-b12b-444d-b28f-6b9cbb3b4989"
      },
      "execution_count": null,
      "outputs": [
        {
          "output_type": "stream",
          "name": "stdout",
          "text": [
            "I am walking\n"
          ]
        }
      ]
    },
    {
      "cell_type": "code",
      "source": [
        "kamran.eat()"
      ],
      "metadata": {
        "colab": {
          "base_uri": "https://localhost:8080/"
        },
        "id": "6ngnPSesPVv3",
        "outputId": "7d2f4f11-bcfe-40ee-98d1-13fb96a3af6c"
      },
      "execution_count": null,
      "outputs": [
        {
          "output_type": "stream",
          "name": "stdout",
          "text": [
            "I am eating\n"
          ]
        }
      ]
    },
    {
      "cell_type": "code",
      "source": [
        "kamran.jump()"
      ],
      "metadata": {
        "colab": {
          "base_uri": "https://localhost:8080/",
          "height": 141
        },
        "id": "2aVtSG-TPeh0",
        "outputId": "fccd58a3-dd7b-44d5-d8c2-c32762279254"
      },
      "execution_count": null,
      "outputs": [
        {
          "output_type": "error",
          "ename": "AttributeError",
          "evalue": "'Person' object has no attribute 'jump'",
          "traceback": [
            "\u001b[0;31m---------------------------------------------------------------------------\u001b[0m",
            "\u001b[0;31mAttributeError\u001b[0m                            Traceback (most recent call last)",
            "\u001b[0;32m<ipython-input-20-76547c44adf0>\u001b[0m in \u001b[0;36m<cell line: 0>\u001b[0;34m()\u001b[0m\n\u001b[0;32m----> 1\u001b[0;31m \u001b[0mkamran\u001b[0m\u001b[0;34m.\u001b[0m\u001b[0mjump\u001b[0m\u001b[0;34m(\u001b[0m\u001b[0;34m)\u001b[0m\u001b[0;34m\u001b[0m\u001b[0;34m\u001b[0m\u001b[0m\n\u001b[0m",
            "\u001b[0;31mAttributeError\u001b[0m: 'Person' object has no attribute 'jump'"
          ]
        }
      ]
    },
    {
      "cell_type": "code",
      "source": [
        "ali = Person()\n",
        "\n",
        "ali.name"
      ],
      "metadata": {
        "colab": {
          "base_uri": "https://localhost:8080/",
          "height": 36
        },
        "id": "68jV06nmPja1",
        "outputId": "5adf0cdc-7a49-44ee-ea85-6dc12e8f2ed2"
      },
      "execution_count": null,
      "outputs": [
        {
          "output_type": "execute_result",
          "data": {
            "text/plain": [
              "'Kamran'"
            ],
            "application/vnd.google.colaboratory.intrinsic+json": {
              "type": "string"
            }
          },
          "metadata": {},
          "execution_count": 21
        }
      ]
    },
    {
      "cell_type": "code",
      "source": [
        "class Person:\n",
        "  def __init__(self, name, age, height, qualification): # constructor\n",
        "    self.name = name\n",
        "    self.age = age\n",
        "    self.height = height\n",
        "    self.qualification = qualification\n",
        "\n",
        "  def walk(self):\n",
        "    print('I am walking')\n",
        "\n",
        "  def eat(self):\n",
        "    print('I am eating')\n",
        "\n",
        "  def sleep(self):\n",
        "    print('I am sleeping')\n",
        "\n",
        "\n"
      ],
      "metadata": {
        "id": "7ry0aReJP5vZ"
      },
      "execution_count": null,
      "outputs": []
    },
    {
      "cell_type": "code",
      "source": [
        "person1 = Person('Ali', 23, 5.6, 'MSC Math')\n",
        "person2 = Person('Kamran', 28, 5.4, 'MSCS')\n",
        "person3 = Person('Hassan', 27, 5.4, 'Ms Electrical')"
      ],
      "metadata": {
        "id": "5G85Cj0WTKkn"
      },
      "execution_count": null,
      "outputs": []
    },
    {
      "cell_type": "code",
      "source": [
        "print(person1.name)\n",
        "print(person2.name)\n",
        "print(person3.name)"
      ],
      "metadata": {
        "colab": {
          "base_uri": "https://localhost:8080/"
        },
        "id": "zD_4j6BeTgmX",
        "outputId": "2490ea06-1419-45f2-bc47-d3d729afb50f"
      },
      "execution_count": null,
      "outputs": [
        {
          "output_type": "stream",
          "name": "stdout",
          "text": [
            "Ali\n",
            "Kamran\n",
            "Hassan\n"
          ]
        }
      ]
    },
    {
      "cell_type": "code",
      "source": [
        "print(person1.age)\n",
        "print(person2.age)\n",
        "print(person3.age)"
      ],
      "metadata": {
        "colab": {
          "base_uri": "https://localhost:8080/"
        },
        "id": "KgPKV3qmTlU7",
        "outputId": "a1b91362-0b55-4478-a8e0-dbd7a8de0a68"
      },
      "execution_count": null,
      "outputs": [
        {
          "output_type": "stream",
          "name": "stdout",
          "text": [
            "23\n",
            "28\n",
            "27\n"
          ]
        }
      ]
    },
    {
      "cell_type": "code",
      "source": [
        "person1.walk()\n",
        "person2.walk()\n",
        "person3.walk()"
      ],
      "metadata": {
        "colab": {
          "base_uri": "https://localhost:8080/",
          "height": 176
        },
        "id": "MCedo21tTpuc",
        "outputId": "062d69c8-dd3c-4543-f85e-f821a31d1dc5"
      },
      "execution_count": null,
      "outputs": [
        {
          "output_type": "error",
          "ename": "TypeError",
          "evalue": "Person.walk() takes 0 positional arguments but 1 was given",
          "traceback": [
            "\u001b[0;31m---------------------------------------------------------------------------\u001b[0m",
            "\u001b[0;31mTypeError\u001b[0m                                 Traceback (most recent call last)",
            "\u001b[0;32m<ipython-input-33-14b8d1aa4854>\u001b[0m in \u001b[0;36m<cell line: 0>\u001b[0;34m()\u001b[0m\n\u001b[0;32m----> 1\u001b[0;31m \u001b[0mperson1\u001b[0m\u001b[0;34m.\u001b[0m\u001b[0mwalk\u001b[0m\u001b[0;34m(\u001b[0m\u001b[0;34m)\u001b[0m\u001b[0;34m\u001b[0m\u001b[0;34m\u001b[0m\u001b[0m\n\u001b[0m\u001b[1;32m      2\u001b[0m \u001b[0mperson2\u001b[0m\u001b[0;34m.\u001b[0m\u001b[0mwalk\u001b[0m\u001b[0;34m(\u001b[0m\u001b[0;34m)\u001b[0m\u001b[0;34m\u001b[0m\u001b[0;34m\u001b[0m\u001b[0m\n\u001b[1;32m      3\u001b[0m \u001b[0mperson3\u001b[0m\u001b[0;34m.\u001b[0m\u001b[0mwalk\u001b[0m\u001b[0;34m(\u001b[0m\u001b[0;34m)\u001b[0m\u001b[0;34m\u001b[0m\u001b[0;34m\u001b[0m\u001b[0m\n",
            "\u001b[0;31mTypeError\u001b[0m: Person.walk() takes 0 positional arguments but 1 was given"
          ]
        }
      ]
    },
    {
      "cell_type": "markdown",
      "source": [
        "# Pillars of OOP\n",
        "\n",
        "\n",
        "1.   Encapsulation\n",
        "2.   Inheritence\n",
        "3.   Polymorphism\n",
        "4.   Abstraction\n",
        "\n",
        "\n"
      ],
      "metadata": {
        "id": "B3VSfyQhW9Kz"
      }
    },
    {
      "cell_type": "code",
      "source": [
        "# Inheritance\n",
        "class Student:\n",
        "  def __init__(self, roll_no, name, age, marks): # constructor\n",
        "    self.roll_no = roll_no\n",
        "    self.name = name\n",
        "    self.age = age\n",
        "    self.marks = marks\n",
        "\n",
        "  def enroll_course(self):\n",
        "    print('The Student is enrolling the course')\n",
        "\n",
        "  def pay_fees(self):\n",
        "    print('The Student is paying the fees')\n"
      ],
      "metadata": {
        "id": "RBM_WwqnT2u4"
      },
      "execution_count": null,
      "outputs": []
    },
    {
      "cell_type": "code",
      "source": [
        "class Piaic_student(Student):\n",
        "  project = True\n",
        "  def take_online_classes(self):\n",
        "    print('The Student is taking online classes')"
      ],
      "metadata": {
        "id": "fhxjTrVVgJ93"
      },
      "execution_count": null,
      "outputs": []
    },
    {
      "cell_type": "code",
      "source": [
        "object1 = Piaic_student(1, 'Kamran', 28, 90)\n",
        "print(object1.name)"
      ],
      "metadata": {
        "colab": {
          "base_uri": "https://localhost:8080/"
        },
        "id": "In1NrFE_gUOg",
        "outputId": "1e85ae7f-f230-478c-98a8-f9a29f764015"
      },
      "execution_count": null,
      "outputs": [
        {
          "output_type": "stream",
          "name": "stdout",
          "text": [
            "Kamran\n"
          ]
        }
      ]
    },
    {
      "cell_type": "code",
      "source": [
        "p_object = Student(1, 'Kamran', 28, 90)\n",
        "print(p_object.project)"
      ],
      "metadata": {
        "colab": {
          "base_uri": "https://localhost:8080/",
          "height": 158
        },
        "id": "x28sYIw-if0K",
        "outputId": "5716b31a-0ae4-404c-9fbb-18a13342c077"
      },
      "execution_count": null,
      "outputs": [
        {
          "output_type": "error",
          "ename": "AttributeError",
          "evalue": "'Student' object has no attribute 'project'",
          "traceback": [
            "\u001b[0;31m---------------------------------------------------------------------------\u001b[0m",
            "\u001b[0;31mAttributeError\u001b[0m                            Traceback (most recent call last)",
            "\u001b[0;32m<ipython-input-58-6f56104ff818>\u001b[0m in \u001b[0;36m<cell line: 0>\u001b[0;34m()\u001b[0m\n\u001b[1;32m      1\u001b[0m \u001b[0mp_object\u001b[0m \u001b[0;34m=\u001b[0m \u001b[0mStudent\u001b[0m\u001b[0;34m(\u001b[0m\u001b[0;36m1\u001b[0m\u001b[0;34m,\u001b[0m \u001b[0;34m'Kamran'\u001b[0m\u001b[0;34m,\u001b[0m \u001b[0;36m28\u001b[0m\u001b[0;34m,\u001b[0m \u001b[0;36m90\u001b[0m\u001b[0;34m)\u001b[0m\u001b[0;34m\u001b[0m\u001b[0;34m\u001b[0m\u001b[0m\n\u001b[0;32m----> 2\u001b[0;31m \u001b[0mprint\u001b[0m\u001b[0;34m(\u001b[0m\u001b[0mp_object\u001b[0m\u001b[0;34m.\u001b[0m\u001b[0mproject\u001b[0m\u001b[0;34m)\u001b[0m\u001b[0;34m\u001b[0m\u001b[0;34m\u001b[0m\u001b[0m\n\u001b[0m",
            "\u001b[0;31mAttributeError\u001b[0m: 'Student' object has no attribute 'project'"
          ]
        }
      ]
    },
    {
      "cell_type": "code",
      "source": [
        "c_object = Piaic_student(2, 'Ali', 34, 97)\n",
        "print(c_object.project)"
      ],
      "metadata": {
        "colab": {
          "base_uri": "https://localhost:8080/"
        },
        "id": "2iH03phdhTYM",
        "outputId": "2248574f-2484-4b2d-9f6b-18d8feb09de3"
      },
      "execution_count": null,
      "outputs": [
        {
          "output_type": "stream",
          "name": "stdout",
          "text": [
            "True\n"
          ]
        }
      ]
    },
    {
      "cell_type": "code",
      "source": [
        "c_object.take_online_classes()"
      ],
      "metadata": {
        "colab": {
          "base_uri": "https://localhost:8080/"
        },
        "id": "usntVYp1ijbX",
        "outputId": "94d37051-3b85-4607-f234-85be022de698"
      },
      "execution_count": null,
      "outputs": [
        {
          "output_type": "stream",
          "name": "stdout",
          "text": [
            "The Student is taking online classes\n"
          ]
        }
      ]
    },
    {
      "cell_type": "code",
      "source": [
        "class Toc(Piaic_student):\n",
        "  def __init__(self, grade):\n",
        "    self.grade = grade\n",
        "\n"
      ],
      "metadata": {
        "id": "YgvPUsdriyEE"
      },
      "execution_count": null,
      "outputs": []
    },
    {
      "cell_type": "code",
      "source": [
        "ob = Toc(3, 'Hassan', 27, 89)\n",
        "ob.take_online_classes()"
      ],
      "metadata": {
        "colab": {
          "base_uri": "https://localhost:8080/"
        },
        "id": "gM7vxmpfjGPA",
        "outputId": "eaaf1c32-66b1-4df2-9316-bcd9305a21e3"
      },
      "execution_count": null,
      "outputs": [
        {
          "output_type": "stream",
          "name": "stdout",
          "text": [
            "The Student is taking online classes\n"
          ]
        }
      ]
    },
    {
      "cell_type": "code",
      "source": [
        "ob.enroll_course()"
      ],
      "metadata": {
        "colab": {
          "base_uri": "https://localhost:8080/"
        },
        "id": "6X6hn7FvjTBh",
        "outputId": "4fd02553-1600-41c9-9f83-3e4637576b3b"
      },
      "execution_count": null,
      "outputs": [
        {
          "output_type": "stream",
          "name": "stdout",
          "text": [
            "The Student is enrolling the course\n"
          ]
        }
      ]
    },
    {
      "cell_type": "code",
      "source": [
        "obj = Toc('a+')"
      ],
      "metadata": {
        "id": "NJlGglPcjhW6"
      },
      "execution_count": null,
      "outputs": []
    },
    {
      "cell_type": "code",
      "source": [
        "obj.name"
      ],
      "metadata": {
        "colab": {
          "base_uri": "https://localhost:8080/",
          "height": 141
        },
        "id": "8ncx6tmEkNU9",
        "outputId": "5e64818a-5aab-4b8e-9bf6-f662310bfec9"
      },
      "execution_count": null,
      "outputs": [
        {
          "output_type": "error",
          "ename": "AttributeError",
          "evalue": "'Toc' object has no attribute 'name'",
          "traceback": [
            "\u001b[0;31m---------------------------------------------------------------------------\u001b[0m",
            "\u001b[0;31mAttributeError\u001b[0m                            Traceback (most recent call last)",
            "\u001b[0;32m<ipython-input-82-8d60453bb8a2>\u001b[0m in \u001b[0;36m<cell line: 0>\u001b[0;34m()\u001b[0m\n\u001b[0;32m----> 1\u001b[0;31m \u001b[0mobj\u001b[0m\u001b[0;34m.\u001b[0m\u001b[0mname\u001b[0m\u001b[0;34m\u001b[0m\u001b[0;34m\u001b[0m\u001b[0m\n\u001b[0m",
            "\u001b[0;31mAttributeError\u001b[0m: 'Toc' object has no attribute 'name'"
          ]
        }
      ]
    },
    {
      "cell_type": "code",
      "source": [
        "obj.enroll_course()"
      ],
      "metadata": {
        "colab": {
          "base_uri": "https://localhost:8080/"
        },
        "id": "uYET6W7ukRhX",
        "outputId": "42cedd26-5c72-4f42-ce17-571a98071d89"
      },
      "execution_count": null,
      "outputs": [
        {
          "output_type": "stream",
          "name": "stdout",
          "text": [
            "The Student is enrolling the course\n"
          ]
        }
      ]
    },
    {
      "cell_type": "code",
      "source": [],
      "metadata": {
        "id": "c5q4G1-KmFHW"
      },
      "execution_count": null,
      "outputs": []
    }
  ]
}